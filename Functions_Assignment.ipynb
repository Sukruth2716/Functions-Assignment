{
  "nbformat": 4,
  "nbformat_minor": 0,
  "metadata": {
    "colab": {
      "provenance": []
    },
    "kernelspec": {
      "name": "python3",
      "display_name": "Python 3"
    },
    "language_info": {
      "name": "python"
    }
  },
  "cells": [
    {
      "cell_type": "markdown",
      "source": [
        "# Functions Assignment\n"
      ],
      "metadata": {
        "id": "fy-8fCrTgZT7"
      }
    },
    {
      "cell_type": "markdown",
      "source": [
        "## Theory Questions\n",
        "### 1. What is the difference between a function and a method in Python?\n",
        " - Functions are like general-purpose actions. For example, a function could be \"calculate the area of a circle.\" You give it the radius, and it gives you the area. It doesn't belong to any specific object.\n",
        " - Methods are actions that belong to a specific object. For example, if you have a \"dog\" object, it might have methods like \"bark,\" \"eat,\" or \"sleep.\" These actions are specific to dogs. You wouldn't tell a \"car\" object to \"bark.\"\n",
        " - You call a function by itself: do_something()\n",
        "You call a method on an object: my_dog.bark() (The dog is doing the barking)\n",
        " - Think of it this way:\n",
        "\n",
        "  - A function is like a verb that anyone can do (e.g., \"run\").\n",
        "  - A method is like a verb that a specific noun does (e.g., \"a dog barks\").\n"
      ],
      "metadata": {
        "id": "M5n0EMeWgiQz"
      }
    },
    {
      "cell_type": "code",
      "source": [
        "# examples of function\n",
        "def greet(name):\n",
        "  return f\"Hello, {name}!\"\n",
        "\n",
        "greeting = greet(\"Alice\")\n",
        "print(greeting)  # Output: Hello, Alice!"
      ],
      "metadata": {
        "colab": {
          "base_uri": "https://localhost:8080/"
        },
        "id": "L0qytMT6gxDG",
        "outputId": "3201e928-7d46-444e-ebd9-252ca7bee711"
      },
      "execution_count": null,
      "outputs": [
        {
          "output_type": "stream",
          "name": "stdout",
          "text": [
            "Hello, Alice!\n"
          ]
        }
      ]
    },
    {
      "cell_type": "code",
      "source": [
        "# Example of Methods\n",
        "class Dog:\n",
        "    def __init__(self, name):\n",
        "        self.name = name\n",
        "\n",
        "    def bark(self):\n",
        "        return \"Woof!\"\n",
        "\n",
        "my_dog = Dog(\"Buddy\")\n",
        "bark_sound = my_dog.bark()  # Calling the bark method on my_dog\n",
        "print(bark_sound)  # Output: Woof!"
      ],
      "metadata": {
        "colab": {
          "base_uri": "https://localhost:8080/"
        },
        "id": "IcBLKQvVkLWw",
        "outputId": "d5010df2-0de0-42e2-c8f7-e3639e699e21"
      },
      "execution_count": null,
      "outputs": [
        {
          "output_type": "stream",
          "name": "stdout",
          "text": [
            "Woof!\n"
          ]
        }
      ]
    },
    {
      "cell_type": "markdown",
      "source": [
        "### 2.  Create a Python function that accepts a string and returns the reverse of that string."
      ],
      "metadata": {
        "id": "RgTezvIHkZBv"
      }
    },
    {
      "cell_type": "code",
      "source": [
        "def reverse_string(input_string):\n",
        "    \"\"\"\n",
        "    Reverses a given string.\n",
        "\n",
        "    Args:\n",
        "        input_string: The string to be reversed.\n",
        "\n",
        "    Returns:\n",
        "        The reversed string, or an empty string if the input is not a string or is None.\n",
        "    \"\"\"\n",
        "    if not isinstance(input_string, str):  # Check if the input is a string\n",
        "        return \"\"  # Or raise a TypeError: raise TypeError(\"Input must be a string\") if you prefer raising error\n",
        "\n",
        "    return input_string[::-1]  # Efficient string slicing for reversal\n",
        "\n",
        "# Example usage:\n",
        "my_string = \"hello\"\n",
        "reversed_string = reverse_string(my_string)\n",
        "print(f\"Original string: {my_string}\")\n",
        "print(f\"Reversed string: {reversed_string}\")\n",
        "\n",
        "another_string = \"Python is fun!\"\n",
        "reversed_another_string = reverse_string(another_string)\n",
        "print(f\"Original string: {another_string}\")\n",
        "print(f\"Reversed string: {reversed_another_string}\")\n",
        "\n",
        "empty_string = \"\"\n",
        "reversed_empty_string = reverse_string(empty_string)\n",
        "print(f\"Original string: {empty_string}\")\n",
        "print(f\"Reversed string: {reversed_empty_string}\")\n",
        "\n",
        "not_a_string = 123\n",
        "reversed_not_a_string = reverse_string(not_a_string)\n",
        "print(f\"Original input: {not_a_string}\")\n",
        "print(f\"Reversed input: {reversed_not_a_string}\") # Output: \"\" (empty string as input is not a string)\n",
        "\n",
        "none_value = None\n",
        "reversed_none_value = reverse_string(none_value)\n",
        "print(f\"Original input: {none_value}\")\n",
        "print(f\"Reversed input: {reversed_none_value}\") # Output: \"\" (empty string as input is None)"
      ],
      "metadata": {
        "colab": {
          "base_uri": "https://localhost:8080/"
        },
        "id": "I_eztVOgkR1S",
        "outputId": "588e45c0-3709-4ebd-a71f-ffe1e11af2ba"
      },
      "execution_count": null,
      "outputs": [
        {
          "output_type": "stream",
          "name": "stdout",
          "text": [
            "Original string: hello\n",
            "Reversed string: olleh\n",
            "Original string: Python is fun!\n",
            "Reversed string: !nuf si nohtyP\n",
            "Original string: \n",
            "Reversed string: \n",
            "Original input: 123\n",
            "Reversed input: \n",
            "Original input: None\n",
            "Reversed input: \n"
          ]
        }
      ]
    },
    {
      "cell_type": "markdown",
      "source": [
        "### 3. . Implement a Python function that takes a list of integers and returns a new list containing the squares of\n",
        "each number."
      ],
      "metadata": {
        "id": "xz6Wbxvqk2dI"
      }
    },
    {
      "cell_type": "code",
      "source": [
        "def square_list(numbers):\n",
        "    \"\"\"\n",
        "    Returns a new list containing the squares of each number in the input list.\n",
        "\n",
        "    Args:\n",
        "        numbers: A list of integers.\n",
        "\n",
        "    Returns:\n",
        "        A new list containing the squares of the numbers, or an empty list if\n",
        "        the input is not a list or if the list contains non-integer elements.\n",
        "        Returns None if input is None.\n",
        "    \"\"\"\n",
        "    if numbers is None:\n",
        "        return None\n",
        "\n",
        "    if not isinstance(numbers, list):\n",
        "        return []\n",
        "\n",
        "    squared_numbers = []\n",
        "    for number in numbers:\n",
        "        if not isinstance(number, int):\n",
        "            return []  # Return empty list if a non-integer is found\n",
        "        squared_numbers.append(number**2)\n",
        "\n",
        "    return squared_numbers\n",
        "\n",
        "# Example Usage\n",
        "numbers1 = [1, 2, 3, 4, 5]\n",
        "squared_numbers1 = square_list(numbers1)\n",
        "print(f\"Original list: {numbers1}\")\n",
        "print(f\"Squared list: {squared_numbers1}\")\n",
        "\n",
        "numbers2 = [-1, 0, 1]\n",
        "squared_numbers2 = square_list(numbers2)\n",
        "print(f\"Original list: {numbers2}\")\n",
        "print(f\"Squared list: {squared_numbers2}\")\n",
        "\n",
        "empty_list = []\n",
        "squared_empty_list = square_list(empty_list)\n",
        "print(f\"Original list: {empty_list}\")\n",
        "print(f\"Squared list: {squared_empty_list}\")\n",
        "\n",
        "not_a_list = \"hello\"\n",
        "squared_not_a_list = square_list(not_a_list)\n",
        "print(f\"Original input: {not_a_list}\")\n",
        "print(f\"Squared output: {squared_not_a_list}\")\n",
        "\n",
        "list_with_non_int = [1, 2, \"a\", 4]\n",
        "squared_list_with_non_int = square_list(list_with_non_int)\n",
        "print(f\"Original input: {list_with_non_int}\")\n",
        "print(f\"Squared output: {squared_list_with_non_int}\")\n",
        "\n",
        "none_input = None\n",
        "squared_none_input = square_list(none_input)\n",
        "print(f\"Original input: {none_input}\")\n",
        "print(f\"Squared output: {squared_none_input}\")"
      ],
      "metadata": {
        "colab": {
          "base_uri": "https://localhost:8080/"
        },
        "id": "QC-edsfFk6RH",
        "outputId": "f73ffa97-7879-4778-98d9-376e90f41e67"
      },
      "execution_count": null,
      "outputs": [
        {
          "output_type": "stream",
          "name": "stdout",
          "text": [
            "Original list: [1, 2, 3, 4, 5]\n",
            "Squared list: [1, 4, 9, 16, 25]\n",
            "Original list: [-1, 0, 1]\n",
            "Squared list: [1, 0, 1]\n",
            "Original list: []\n",
            "Squared list: []\n",
            "Original input: hello\n",
            "Squared output: []\n",
            "Original input: [1, 2, 'a', 4]\n",
            "Squared output: []\n",
            "Original input: None\n",
            "Squared output: None\n"
          ]
        }
      ]
    },
    {
      "cell_type": "markdown",
      "source": [
        "### 2. Explain the concept of function arguments and parameters in Python.\n",
        " - Parameters:\n",
        "\n",
        "  - Definition: Parameters are the names listed within the parentheses in a function's definition. They act as placeholders for the values that will be passed to the function when it's called.\n",
        "  - Location: They are defined in the def line of the function.\n",
        "  - Purpose: They define what kind of data the function expects to receive.\n",
        " - Arguments:\n",
        "\n",
        "  - Definition: Arguments are the actual values that are passed to a function when it's called.\n",
        "  - Location: They are provided when you call (invoke) the function.\n",
        "  - Purpose: They provide the specific data that the function will operate on."
      ],
      "metadata": {
        "id": "LZBImOsPkLFR"
      }
    },
    {
      "cell_type": "code",
      "source": [
        "# Example\n",
        "def greet(name, greeting=\"Hello\"):  # name and greeting are parameters\n",
        "    \"\"\"Greets a person with an optional greeting.\"\"\"\n",
        "    print(f\"{greeting}, {name}!\")\n",
        "\n",
        "greet(\"Alice\")  # \"Alice\" is the argument for name; greeting uses the default \"Hello\"\n",
        "greet(\"Bob\", \"Good morning\")  # \"Bob\" is the argument for name, \"Good morning\" is the argument for greeting\n",
        "greet(greeting = \"Hey\", name =\"Charlie\") # \"Hey\" is the argument for greeting, \"Charlie\" is the argument for name (Keyword arguments)"
      ],
      "metadata": {
        "colab": {
          "base_uri": "https://localhost:8080/"
        },
        "id": "XUAeoH4Nl1Yj",
        "outputId": "74c0e2d6-79c3-4df0-f7f9-3c6a9f00a0aa"
      },
      "execution_count": null,
      "outputs": [
        {
          "output_type": "stream",
          "name": "stdout",
          "text": [
            "Hello, Alice!\n",
            "Good morning, Bob!\n",
            "Hey, Charlie!\n"
          ]
        }
      ]
    },
    {
      "cell_type": "markdown",
      "source": [
        "### 3. What are the different ways to define and call a function in Python?\n",
        " -  Basic Function Definition and Call:\n",
        "\n",
        "    - This is the most common way to define a function.\n",
        "\n"
      ],
      "metadata": {
        "id": "6tDsCxdHffvm"
      }
    },
    {
      "cell_type": "code",
      "source": [
        "def greet(name):  # Function definition\n",
        "    \"\"\"Greets the person passed in as a parameter.\"\"\" # Docstring\n",
        "    print(f\"Hello, {name}!\")\n",
        "\n",
        "greet(\"Alice\")  # Function call (invocation) - Positional argument\n",
        "greet(\"Bob\")    # Another function call"
      ],
      "metadata": {
        "colab": {
          "base_uri": "https://localhost:8080/"
        },
        "id": "TSzKasBYmQF1",
        "outputId": "c13adb77-441d-47cd-f4de-87250d828b51"
      },
      "execution_count": null,
      "outputs": [
        {
          "output_type": "stream",
          "name": "stdout",
          "text": [
            "Hello, Alice!\n",
            "Hello, Bob!\n"
          ]
        }
      ]
    },
    {
      "cell_type": "markdown",
      "source": [
        " - def keyword starts the function definition.\n",
        " - greet is the function name.\n",
        " - (name) are the parameters (input placeholders).\n",
        " - The indented block is the function body (code to be executed).\n",
        " - greet(\"Alice\") calls the function, providing \"Alice\" as the argument.\n",
        " #### 2. Function with Default Parameter Values:\n",
        "\n",
        " - You can provide default values for parameters. If an argument is not provided for that parameter in the function call, the default value is used."
      ],
      "metadata": {
        "id": "8BSUk_yLmPlP"
      }
    },
    {
      "cell_type": "code",
      "source": [
        "def greet(name, greeting=\"Hello\"): # greeting has a default value\n",
        "    print(f\"{greeting}, {name}!\")\n",
        "\n",
        "greet(\"Alice\")       # Output: Hello, Alice! (greeting uses default)\n",
        "greet(\"Bob\", \"Hi\")  # Output: Hi, Bob! (greeting is overridden)"
      ],
      "metadata": {
        "colab": {
          "base_uri": "https://localhost:8080/"
        },
        "id": "7sjGgHSDoTkX",
        "outputId": "4df606c4-5ba8-432b-b408-8497a3e8513c"
      },
      "execution_count": null,
      "outputs": [
        {
          "output_type": "stream",
          "name": "stdout",
          "text": [
            "Hello, Alice!\n",
            "Hi, Bob!\n"
          ]
        }
      ]
    },
    {
      "cell_type": "markdown",
      "source": [
        "#### 3. Function with Return Value:\n",
        "\n",
        " - Functions can return a value using the return statement."
      ],
      "metadata": {
        "id": "WSXgxPWSodXC"
      }
    },
    {
      "cell_type": "code",
      "source": [
        "def add(x, y):\n",
        "    \"\"\"Returns the sum of x and y.\"\"\"\n",
        "    return x + y\n",
        "\n",
        "result = add(5, 3)\n",
        "print(result)  # Output: 8"
      ],
      "metadata": {
        "colab": {
          "base_uri": "https://localhost:8080/"
        },
        "id": "Ve95UyEooZ9L",
        "outputId": "081c74ec-91a8-4641-b259-cdc71cd5c73b"
      },
      "execution_count": null,
      "outputs": [
        {
          "output_type": "stream",
          "name": "stdout",
          "text": [
            "8\n"
          ]
        }
      ]
    },
    {
      "cell_type": "markdown",
      "source": [
        "#### 4. Function with Variable Number of Positional Arguments (*args):\n",
        "\n",
        " - The *args syntax allows a function to accept any number of positional arguments. These arguments are collected into a tuple."
      ],
      "metadata": {
        "id": "W0lr7cmIpX-z"
      }
    },
    {
      "cell_type": "code",
      "source": [
        "def my_function(*args):\n",
        "    for arg in args:\n",
        "        print(arg)\n",
        "\n",
        "my_function(\"apple\", \"banana\", \"cherry\") # Output: apple\\nbanana\\ncherry\n",
        "my_function(1, 2, 3, 4, 5) # Output: 1\\n2\\n3\\n4\\n5"
      ],
      "metadata": {
        "colab": {
          "base_uri": "https://localhost:8080/"
        },
        "id": "X3mw5dproUsc",
        "outputId": "b2e61cf1-be53-423b-c993-0d6e1ec32f0c"
      },
      "execution_count": null,
      "outputs": [
        {
          "output_type": "stream",
          "name": "stdout",
          "text": [
            "apple\n",
            "banana\n",
            "cherry\n",
            "1\n",
            "2\n",
            "3\n",
            "4\n",
            "5\n"
          ]
        }
      ]
    },
    {
      "cell_type": "markdown",
      "source": [
        "#### 6. Lambda Functions (Anonymous Functions):\n",
        "\n",
        " - Lambda functions are small, anonymous functions defined using the lambda keyword. They can have only one expression."
      ],
      "metadata": {
        "id": "iM-f4yWWpgqA"
      }
    },
    {
      "cell_type": "code",
      "source": [
        "square = lambda x: x * x  # lambda parameter: expression\n",
        "print(square(5))         # Output: 25\n",
        "\n",
        "add = lambda x, y: x + y\n",
        "print(add(3, 7))       # Output: 10\n",
        "\n",
        "full_name = lambda first, last: f\"{first} {last}\"\n",
        "print(full_name(\"John\", \"Doe\")) # Output: John Doe"
      ],
      "metadata": {
        "colab": {
          "base_uri": "https://localhost:8080/"
        },
        "id": "l-wQ3G0-pdSF",
        "outputId": "9a5d66c3-5c1c-46be-a78f-9c9c7fb2ff34"
      },
      "execution_count": null,
      "outputs": [
        {
          "output_type": "stream",
          "name": "stdout",
          "text": [
            "25\n",
            "10\n",
            "John Doe\n"
          ]
        }
      ]
    },
    {
      "cell_type": "markdown",
      "source": [
        "  - Lambda functions are often used in situations where a small function is needed for a short period, such as with map(), filter(), and sorted().\n",
        "\n",
        "#### 7. Calling a Function:\n",
        "\n",
        " - Direct Call: As shown in the examples above, you call a function by its name followed by parentheses ().\n",
        "Calling a Function within Another Function:"
      ],
      "metadata": {
        "id": "_4rOmSy7psdw"
      }
    },
    {
      "cell_type": "code",
      "source": [
        "def outer_function():\n",
        "    def inner_function():\n",
        "        print(\"Hello from inner function\")\n",
        "    inner_function() # Calling inner function inside outer function\n",
        "    print(\"Hello from outer function\")\n",
        "\n",
        "outer_function()"
      ],
      "metadata": {
        "colab": {
          "base_uri": "https://localhost:8080/"
        },
        "id": "fPAM7L4KpnWM",
        "outputId": "03569426-6d07-4fb5-c775-714eacc9680c"
      },
      "execution_count": null,
      "outputs": [
        {
          "output_type": "stream",
          "name": "stdout",
          "text": [
            "Hello from inner function\n",
            "Hello from outer function\n"
          ]
        }
      ]
    },
    {
      "cell_type": "markdown",
      "source": [
        " - These are the main ways to define and call functions in Python. Understanding these different approaches gives you flexibility in structuring your code and creating reusable blocks of logic.\n"
      ],
      "metadata": {
        "id": "tHGocCJsp8ZU"
      }
    },
    {
      "cell_type": "markdown",
      "source": [
        "### 4. What is the purpose of the `return` statement in a Python function?\n",
        " - The return statement in a Python function serves a crucial purpose: it ends the execution of the function and sends a value back to the caller (the part of the code that invoked the function). Here's a breakdown of its key roles:\n",
        "\n",
        " - Returning a Value: The primary purpose of return is to send a result back to the caller. This result can be any Python object:\n",
        "\n",
        " - Numbers (integers, floats)\n",
        " - Strings\n",
        " - Booleans (True, False)\n",
        " - Lists, tuples, dictionaries\n",
        " - Custom objects\n",
        " - None (indicating no specific value)"
      ],
      "metadata": {
        "id": "b6BdBO0QqG1a"
      }
    },
    {
      "cell_type": "code",
      "source": [
        "def add(x, y):\n",
        "    return x + y  # Returns the sum of x and y\n",
        "\n",
        "result = add(5, 3)\n",
        "print(result)  # Output: 8\n",
        "\n",
        "def get_greeting(name):\n",
        "    return f\"Hello, {name}!\"\n",
        "\n",
        "greeting = get_greeting(\"Alice\")\n",
        "print(greeting) # Output: Hello, Alice!"
      ],
      "metadata": {
        "colab": {
          "base_uri": "https://localhost:8080/"
        },
        "id": "ZzWT-w6zp37L",
        "outputId": "bea6f7d7-5637-4f13-c74f-94edc6a2b5fb"
      },
      "execution_count": null,
      "outputs": [
        {
          "output_type": "stream",
          "name": "stdout",
          "text": [
            "8\n",
            "Hello, Alice!\n"
          ]
        }
      ]
    },
    {
      "cell_type": "markdown",
      "source": [
        "##### 2. Exiting the Function: When a return statement is encountered, the function immediately terminates, and any code after the return statement within the function is not executed."
      ],
      "metadata": {
        "id": "hzYLepg-q0Xi"
      }
    },
    {
      "cell_type": "code",
      "source": [
        "def check_value(num):\n",
        "    if num > 10:\n",
        "        return \"Number is greater than 10\"\n",
        "    print(\"This will only print if the number is not greater than 10\") # This line won't execute if num > 10\n",
        "    return \"Number is not greater than 10\"\n",
        "\n",
        "print(check_value(15))  # Output: Number is greater than 10\n",
        "print(check_value(5)) # Output: This will only print if the number is not greater than 10\\nNumber is not greater than 10"
      ],
      "metadata": {
        "colab": {
          "base_uri": "https://localhost:8080/"
        },
        "id": "ipC_fSRKqtMQ",
        "outputId": "28951e43-4170-47f0-e406-ac201c74dcbd"
      },
      "execution_count": null,
      "outputs": [
        {
          "output_type": "stream",
          "name": "stdout",
          "text": [
            "Number is greater than 10\n",
            "This will only print if the number is not greater than 10\n",
            "Number is not greater than 10\n"
          ]
        }
      ]
    },
    {
      "cell_type": "markdown",
      "source": [
        "### 5. What are iterators in Python and how do they differ from iterables?\n",
        " - Iterables:\n",
        "\n",
        "    - An iterable is any Python object capable of returning its members one at a time. It's an object that can be used in a for loop. Technically, an object is an iterable if it defines the __iter__() method, which is expected to return an iterator.\n",
        "\n",
        "- Iterators:\n",
        "\n",
        "     - An iterator is an object that produces the next item in a sequence when you call its __next__() method. It keeps track of its current position in the sequence. When there are no more items to return, it raises the StopIteration exception. Iterators also implement the __iter__() method (returning themselves), making them iterables as well.\n",
        "\n"
      ],
      "metadata": {
        "id": "6IeIXZJ8rA6T"
      }
    },
    {
      "cell_type": "code",
      "source": [
        "my_list = [10, 20, 30]  # my_list is an iterable (a list)\n",
        "\n",
        "# Create an iterator from the iterable\n",
        "my_iterator = iter(my_list)\n",
        "\n",
        "# Now, use the iterator to get elements one by one\n",
        "try:\n",
        "    item1 = next(my_iterator)  # Get the first item\n",
        "    print(item1)  # Output: 10\n",
        "\n",
        "    item2 = next(my_iterator)  # Get the second item\n",
        "    print(item2)  # Output: 20\n",
        "\n",
        "    item3 = next(my_iterator)  # Get the third item\n",
        "    print(item3)  # Output: 30\n",
        "\n",
        "    item4 = next(my_iterator)  # Try to get the next item (there are none)\n",
        "    print(item4) # This will raise StopIteration\n",
        "except StopIteration:\n",
        "    print(\"No more items in the iterator\")"
      ],
      "metadata": {
        "colab": {
          "base_uri": "https://localhost:8080/"
        },
        "id": "i2wBB8gArAi6",
        "outputId": "81552663-9ff2-46dc-8ba2-eee19dbb8eff"
      },
      "execution_count": null,
      "outputs": [
        {
          "output_type": "stream",
          "name": "stdout",
          "text": [
            "10\n",
            "20\n",
            "30\n",
            "No more items in the iterator\n"
          ]
        }
      ]
    },
    {
      "cell_type": "markdown",
      "source": [
        "### 6.  Explain the concept of generators in Python and how they are defined.\n",
        " - Generators are a special type of function that creates iterators. They provide a concise and memory-efficient way to work with sequences of data, especially large or infinite ones.\n",
        "\n",
        " - Key Features:\n",
        "\n",
        "  - yield Keyword: Instead of return, generators use yield to produce a value. When yield is encountered, the function's state is saved, and the value is sent back to the caller. The function can be resumed from where it left off.\n",
        "  - Lazy Evaluation: Generators produce values on demand. They don't store the entire sequence in memory. This is crucial for handling large datasets.\n",
        "  - Automatic Iterator Creation: When you call a generator function, it returns a generator object (which is an iterator). You don't need to manually implement __iter__() and __next__()."
      ],
      "metadata": {
        "id": "_k4LRyesrqjW"
      }
    },
    {
      "cell_type": "code",
      "source": [
        "def number_generator(n):\n",
        "    \"\"\"Generates numbers from 0 to n-1.\"\"\"\n",
        "    for i in range(n):\n",
        "        yield i\n",
        "\n",
        "# Using the generator:\n",
        "my_generator = number_generator(5)  # Creates a generator object\n",
        "\n",
        "for num in my_generator:  # Iterates through the generated values\n",
        "    print(num)\n",
        "# Output:\n",
        "# 0\n",
        "# 1\n",
        "# 2\n",
        "# 3\n",
        "# 4\n",
        "\n",
        "#Equivalent using next()\n",
        "my_generator = number_generator(3)\n",
        "print(next(my_generator)) # Output: 0\n",
        "print(next(my_generator)) # Output: 1\n",
        "print(next(my_generator)) # Output: 2\n",
        "#print(next(my_generator)) # Raises StopIteration"
      ],
      "metadata": {
        "colab": {
          "base_uri": "https://localhost:8080/"
        },
        "id": "n2hHQhPOq5_A",
        "outputId": "51e83ace-4af1-469d-86e2-9cc911f1f5c1"
      },
      "execution_count": null,
      "outputs": [
        {
          "output_type": "stream",
          "name": "stdout",
          "text": [
            "0\n",
            "1\n",
            "2\n",
            "3\n",
            "4\n",
            "0\n",
            "1\n",
            "2\n"
          ]
        }
      ]
    },
    {
      "cell_type": "markdown",
      "source": [
        "### 7. What are the advantages of using generators over regular functions?\n",
        " - The primary benefit of generators is their memory efficiency. They produce items one at a time, only when needed (lazy evaluation), instead of storing the entire sequence in memory like regular functions that return lists.\n",
        "\n",
        " - Example 1: Processing a large file:\n",
        "\n",
        " - Imagine a huge text file."
      ],
      "metadata": {
        "id": "ioZEzEBqscgq"
      }
    },
    {
      "cell_type": "code",
      "source": [
        "# Regular function (loads the whole file into memory - inefficient)\n",
        "def read_file_regular(filename):\n",
        "    with open(filename, 'r') as f:\n",
        "        return f.readlines()  # Loads all lines at once!\n",
        "\n",
        "# Generator function (yields lines one by one - efficient)\n",
        "def read_file_generator(filename):\n",
        "    with open(filename, 'r') as f:\n",
        "        for line in f:\n",
        "            yield line\n",
        "\n",
        "# Create a dummy file for testing\n",
        "with open(\"large_file.txt\", \"w\") as f:\n",
        "    for i in range(1000000): # Write a million lines\n",
        "        f.write(f\"Line {i}\\n\")\n",
        "\n",
        "# Using the functions:\n",
        "# This would cause MemoryError for large files\n",
        "#lines = read_file_regular(\"large_file.txt\")\n",
        "\n",
        "# This is memory-efficient, processes one line at a time\n",
        "for line in read_file_generator(\"large_file.txt\"):\n",
        "    # Process each line here (e.g., print, analyze, etc.)\n",
        "    pass # In this example we just pass\n",
        "\n",
        "import os\n",
        "os.remove(\"large_file.txt\") # Remove dummy file"
      ],
      "metadata": {
        "id": "fYT6fadzsLHN"
      },
      "execution_count": null,
      "outputs": []
    },
    {
      "cell_type": "markdown",
      "source": [
        " - In this example, the generator version processes the file line by line without ever loading the entire file into memory, making it suitable for extremely large files.\n",
        "\n",
        " - Example 2: Infinite Sequences:\n",
        "\n",
        " - Generators can represent infinite sequences, which is impossible with regular functions.\n",
        "\n"
      ],
      "metadata": {
        "id": "JozPg7His0lb"
      }
    },
    {
      "cell_type": "code",
      "source": [
        "def infinite_sequence():\n",
        "    num = 0\n",
        "    while True:\n",
        "        yield num\n",
        "        num += 1\n",
        "\n",
        "# Using the generator (taking only the first few values):\n",
        "gen = infinite_sequence()\n",
        "for i in range(5):  # Get the first 5 numbers\n",
        "    print(next(gen)) # Output: 0\\n1\\n2\\n3\\n4\n",
        "\n",
        "# Trying the same with a list will cause infinite loop\n",
        "#numbers = [num for num in infinite_sequence()] # This will cause infinte loop"
      ],
      "metadata": {
        "colab": {
          "base_uri": "https://localhost:8080/"
        },
        "id": "mk8Ddv6hssyT",
        "outputId": "0dae0d4b-0fc0-4e23-d434-e6a44089b68c"
      },
      "execution_count": null,
      "outputs": [
        {
          "output_type": "stream",
          "name": "stdout",
          "text": [
            "0\n",
            "1\n",
            "2\n",
            "3\n",
            "4\n"
          ]
        }
      ]
    },
    {
      "cell_type": "markdown",
      "source": [
        " - A regular function trying to create an infinite list would run forever and exhaust memory. The generator handles this gracefully.\n",
        "\n",
        " - Other Advantages (Briefly):\n",
        "\n",
        " - Improved Readability: Generators often make code cleaner and easier to understand, especially for complex iteration.\n",
        " - Pipeline Processing: You can chain generators together to create efficient data processing pipelines."
      ],
      "metadata": {
        "id": "NZ6Kyu9ttHFt"
      }
    },
    {
      "cell_type": "markdown",
      "source": [
        "### 8. What is a lambda function in Python and when is it typically used?\n",
        " - A lambda function in Python is a small, anonymous function (a function without a name). It's defined using the lambda keyword and is limited to a single expression.\n",
        "  - Lambda functions are defined using the following syntax:\n",
        "  "
      ],
      "metadata": {
        "id": "GX8EkRkpug5y"
      }
    },
    {
      "cell_type": "code",
      "source": [
        "lambda arguments: expression"
      ],
      "metadata": {
        "colab": {
          "base_uri": "https://localhost:8080/"
        },
        "id": "yB5FfBE7tF64",
        "outputId": "db42ac43-b1d7-4465-f9bf-42e5c36fe935"
      },
      "execution_count": null,
      "outputs": [
        {
          "output_type": "execute_result",
          "data": {
            "text/plain": [
              "<function __main__.<lambda>(arguments)>"
            ]
          },
          "metadata": {},
          "execution_count": 18
        }
      ]
    },
    {
      "cell_type": "markdown",
      "source": [
        " - lambda: The keyword that indicates a lambda function.\n",
        " - arguments: A comma-separated list of arguments (like regular function parameters).\n",
        " - expression: The single expression that the lambda function evaluates and returns."
      ],
      "metadata": {
        "id": "AEUM9Pgmu4pa"
      }
    },
    {
      "cell_type": "code",
      "source": [
        "# Example\n",
        "add = lambda x, y: x + y\n",
        "print(add(5, 3))  # Output: 8\n",
        "\n",
        "#Equivalent regular function\n",
        "def add_regular(x, y):\n",
        "    return x + y\n",
        "print(add_regular(5,3)) # Output: 8"
      ],
      "metadata": {
        "colab": {
          "base_uri": "https://localhost:8080/"
        },
        "id": "4TNguvhxs9ku",
        "outputId": "4042e12d-e44a-40b0-d30a-fc4234640bf1"
      },
      "execution_count": null,
      "outputs": [
        {
          "output_type": "stream",
          "name": "stdout",
          "text": [
            "8\n",
            "8\n"
          ]
        }
      ]
    },
    {
      "cell_type": "markdown",
      "source": [
        "### 9. Explain the purpose and usage of the `map()` function in Python.\n",
        " - The map() function in Python is a built-in function that applies a given function to each item of an iterable (like a list, tuple, etc.) and returns an iterator that yields the results.\n",
        "  - The primary purpose of map() is to transform each element of an iterable using a specific function, creating a new sequence of transformed elements. It provides a concise way to perform element-wise operations.\n",
        "\n",
        " - Usage:\n",
        "\n",
        " - The map() function takes two main arguments:\n",
        "\n",
        "  - function: The function to apply to each item.\n",
        "  - iterable: The iterable whose items will be processed."
      ],
      "metadata": {
        "id": "1pdu5VpvxYbe"
      }
    },
    {
      "cell_type": "code",
      "source": [
        "# Syntax\n",
        "# map(function, iterable)"
      ],
      "metadata": {
        "id": "Ft1ZzOQYvAFb"
      },
      "execution_count": null,
      "outputs": []
    },
    {
      "cell_type": "code",
      "source": [
        "# Example\n",
        "numbers = [1, 2, 3, 4, 5]\n",
        "\n",
        "# Using a lambda function with map()\n",
        "squared_numbers = list(map(lambda x: x**2, numbers)) # map returns a map object which can be converted to other iterables like list, tuple, set\n",
        "print(squared_numbers)  # Output: [1, 4, 9, 16, 25]\n",
        "\n",
        "#Using regular function with map()\n",
        "def square(x):\n",
        "    return x**2\n",
        "squared_numbers_regular_function = list(map(square, numbers))\n",
        "print(squared_numbers_regular_function) # Output: [1, 4, 9, 16, 25]\n",
        "\n",
        "#Equivalent using list comprehension\n",
        "squared_numbers_list_comprehension = [x**2 for x in numbers]\n",
        "print(squared_numbers_list_comprehension) # Output: [1, 4, 9, 16, 25]"
      ],
      "metadata": {
        "colab": {
          "base_uri": "https://localhost:8080/"
        },
        "id": "ftJDfiQix_rR",
        "outputId": "af0753c8-0d2f-440a-d00a-607771662978"
      },
      "execution_count": null,
      "outputs": [
        {
          "output_type": "stream",
          "name": "stdout",
          "text": [
            "[1, 4, 9, 16, 25]\n",
            "[1, 4, 9, 16, 25]\n",
            "[1, 4, 9, 16, 25]\n"
          ]
        }
      ]
    },
    {
      "cell_type": "markdown",
      "source": [
        "### 10. What is the difference between `map()`, `reduce()`, and `filter()` functions in Python?\n",
        " - map(): Transforming each item\n",
        "\n",
        " - map() applies a function to every item in an iterable (like a list) and returns a map object (which is an iterator). You often convert this map object to a list to see the results.\n",
        "\n",
        "#### Example: Double each number in a list."
      ],
      "metadata": {
        "id": "AsTzM-RsyfMM"
      }
    },
    {
      "cell_type": "code",
      "source": [
        "numbers = [1, 2, 3, 4]\n",
        "\n",
        "# Using map() with a lambda function\n",
        "doubled = list(map(lambda x: x * 2, numbers))\n",
        "print(doubled)  # Output: [2, 4, 6, 8]\n",
        "\n",
        "#Equivalent using list comprehension\n",
        "doubled_list_comprehension = [x*2 for x in numbers]\n",
        "print(doubled_list_comprehension) # Output: [2, 4, 6, 8]"
      ],
      "metadata": {
        "colab": {
          "base_uri": "https://localhost:8080/"
        },
        "id": "LXhteo77yJxD",
        "outputId": "da3d58bc-be14-457f-a2f3-ce0d32735d95"
      },
      "execution_count": null,
      "outputs": [
        {
          "output_type": "stream",
          "name": "stdout",
          "text": [
            "[2, 4, 6, 8]\n",
            "[2, 4, 6, 8]\n"
          ]
        }
      ]
    },
    {
      "cell_type": "markdown",
      "source": [
        " - filter(): Selecting items based on a condition\n",
        "\n",
        " - filter() creates a new iterable containing only the items from the original iterable for which a given function (called a predicate) returns True. It returns a filter object (which is an iterator).\n",
        "\n",
        "#### Example: Get only the even numbers from a list."
      ],
      "metadata": {
        "id": "FFstMO8ey0hw"
      }
    },
    {
      "cell_type": "code",
      "source": [
        "numbers = [1, 2, 3, 4, 5, 6]\n",
        "\n",
        "# Using filter() with a lambda function\n",
        "evens = list(filter(lambda x: x % 2 == 0, numbers))\n",
        "print(evens)  # Output: [2, 4, 6]\n",
        "\n",
        "#Equivalent using list comprehension\n",
        "evens_list_comprehension = [x for x in numbers if x%2==0]\n",
        "print(evens_list_comprehension) # Output: [2, 4, 6]"
      ],
      "metadata": {
        "colab": {
          "base_uri": "https://localhost:8080/"
        },
        "id": "wWhEvJwiyvok",
        "outputId": "c57b1b02-34cb-46b9-9f45-6268bd077518"
      },
      "execution_count": null,
      "outputs": [
        {
          "output_type": "stream",
          "name": "stdout",
          "text": [
            "[2, 4, 6]\n",
            "[2, 4, 6]\n"
          ]
        }
      ]
    },
    {
      "cell_type": "markdown",
      "source": [
        " - reduce(): Combining all items to a single value\n",
        "\n",
        " - reduce() applies a function cumulatively to the items of a sequence, reducing it to a single value. It's available in the functools module in Python 3.\n",
        "\n",
        "#### Example: Calculate the product of all numbers in a list."
      ],
      "metadata": {
        "id": "zvzYGoZXzCA5"
      }
    },
    {
      "cell_type": "code",
      "source": [
        "from functools import reduce\n",
        "\n",
        "numbers = [1, 2, 3, 4]\n",
        "\n",
        "# Using reduce() with a lambda function\n",
        "product = reduce(lambda x, y: x * y, numbers)\n",
        "print(product)  # Output: 24 (1*2*3*4)\n",
        "\n",
        "#Equivalent using loop\n",
        "numbers = [1, 2, 3, 4]\n",
        "product = 1\n",
        "for num in numbers:\n",
        "    product*=num\n",
        "print(product) # Output: 24"
      ],
      "metadata": {
        "colab": {
          "base_uri": "https://localhost:8080/"
        },
        "id": "qV_-I_xgy5sU",
        "outputId": "ce229c0a-81b2-478c-cc77-52f7db6702b8"
      },
      "execution_count": null,
      "outputs": [
        {
          "output_type": "stream",
          "name": "stdout",
          "text": [
            "24\n",
            "24\n"
          ]
        }
      ]
    },
    {
      "cell_type": "markdown",
      "source": [
        "## Practical Questions\n"
      ],
      "metadata": {
        "id": "KtVwNeem0fCo"
      }
    },
    {
      "cell_type": "markdown",
      "source": [
        "### 1. Write a Python function that takes a list of numbers as input and returns the sum of all even numbers in the list."
      ],
      "metadata": {
        "id": "A0X1KhzS0nd6"
      }
    },
    {
      "cell_type": "code",
      "source": [
        "def sum_of_even_numbers(numbers):\n",
        "    \"\"\"\n",
        "    Calculates the sum of all even numbers in a list.\n",
        "\n",
        "    Args:\n",
        "        numbers: A list of numbers.\n",
        "\n",
        "    Returns:\n",
        "        The sum of even numbers in the list. Returns 0 if the input list is empty or contains no even numbers.\n",
        "        Returns None if the input is not a list.\n",
        "    \"\"\"\n",
        "\n",
        "    if not isinstance(numbers, list):\n",
        "        return None  # Handle non-list input\n",
        "\n",
        "    even_sum = 0\n",
        "    for number in numbers:\n",
        "        if isinstance(number, (int, float)) and number % 2 == 0:  # Check if it's a number and even\n",
        "            even_sum += number\n",
        "\n",
        "    return even_sum\n",
        "\n",
        "\n",
        "# Example Usage:\n",
        "numbers1 = [1, 2, 3, 4, 5, 6]\n",
        "even_sum1 = sum_of_even_numbers(numbers1)\n",
        "print(f\"Sum of even numbers in {numbers1}: {even_sum1}\")  # Output: 12\n",
        "\n",
        "numbers2 = [1, 3, 5, 7]\n",
        "even_sum2 = sum_of_even_numbers(numbers2)\n",
        "print(f\"Sum of even numbers in {numbers2}: {even_sum2}\")  # Output: 0\n",
        "\n",
        "numbers3 = []  # Empty list\n",
        "even_sum3 = sum_of_even_numbers(numbers3)\n",
        "print(f\"Sum of even numbers in {numbers3}: {even_sum3}\")  # Output: 0\n",
        "\n",
        "numbers4 = [1, 2, 'a', 4] # List with non-numeric value\n",
        "even_sum4 = sum_of_even_numbers(numbers4)\n",
        "print(f\"Sum of even numbers in {numbers4}: {even_sum4}\") # Output: 6\n",
        "\n",
        "not_a_list = \"hello\"\n",
        "even_sum_not_a_list = sum_of_even_numbers(not_a_list)\n",
        "print(f\"Sum of even numbers in {not_a_list}: {even_sum_not_a_list}\") # Output: None"
      ],
      "metadata": {
        "colab": {
          "base_uri": "https://localhost:8080/"
        },
        "id": "uMbBUAYbzHxY",
        "outputId": "48e4214b-cd85-4a3e-d938-61eea65cd98b"
      },
      "execution_count": null,
      "outputs": [
        {
          "output_type": "stream",
          "name": "stdout",
          "text": [
            "Sum of even numbers in [1, 2, 3, 4, 5, 6]: 12\n",
            "Sum of even numbers in [1, 3, 5, 7]: 0\n",
            "Sum of even numbers in []: 0\n",
            "Sum of even numbers in [1, 2, 'a', 4]: 6\n",
            "Sum of even numbers in hello: None\n"
          ]
        }
      ]
    },
    {
      "cell_type": "markdown",
      "source": [
        "### 2. Create a Python function that accepts a string and returns the reverse of that string."
      ],
      "metadata": {
        "id": "v3iVDuGr00vb"
      }
    },
    {
      "cell_type": "code",
      "source": [
        "def reverse_string(input_string):\n",
        "    \"\"\"\n",
        "    Reverses a given string.\n",
        "\n",
        "    Args:\n",
        "        input_string: The string to be reversed.\n",
        "\n",
        "    Returns:\n",
        "        The reversed string. Returns an empty string if the input is not a string or is None.\n",
        "    \"\"\"\n",
        "\n",
        "    if not isinstance(input_string, str) or input_string is None:\n",
        "        return \"\"  # Handle non-string or None input\n",
        "\n",
        "    return input_string[::-1]  # Efficient string slicing for reversal\n",
        "\n",
        "# Example Usage:\n",
        "test_strings = [\n",
        "    \"hello\",\n",
        "    \"Python is fun!\",\n",
        "    \"\",  # Empty string\n",
        "    123,  # Not a string\n",
        "    None, # None input\n",
        "    \"A man, a plan, a canal: Panama\"\n",
        "]\n",
        "\n",
        "for test_str in test_strings:\n",
        "    reversed_str = reverse_string(test_str)\n",
        "    print(f\"Original: '{test_str}', Reversed: '{reversed_str}'\")\n",
        "\n",
        "# Output:\n",
        "# Original: 'hello', Reversed: 'olleh'\n",
        "# Original: 'Python is fun!', Reversed: '!nuf si nohtyP'\n",
        "# Original: '', Reversed: ''\n",
        "# Original: '123', Reversed: ''\n",
        "# Original: 'None', Reversed: ''\n",
        "# Original: 'A man, a plan, a canal: Panama', Reversed: 'amanaP :lanac a ,nalp a ,nam A'"
      ],
      "metadata": {
        "id": "bhVCRudR0vCW"
      },
      "execution_count": null,
      "outputs": []
    },
    {
      "cell_type": "markdown",
      "source": [
        "### 3. Implement a Python function that takes a list of integers and returns a new list containing the squares of\n",
        "each number."
      ],
      "metadata": {
        "id": "dxFd-ZTt08X3"
      }
    },
    {
      "cell_type": "code",
      "source": [
        "def square_list(numbers):\n",
        "    \"\"\"\n",
        "    Returns a new list containing the squares of each number in the input list.\n",
        "\n",
        "    Args:\n",
        "        numbers: A list of numbers (integers or floats).\n",
        "\n",
        "    Returns:\n",
        "        A new list containing the squares of the numbers.\n",
        "        Returns an empty list if the input is not a list, is None, or contains non-numeric elements.\n",
        "    \"\"\"\n",
        "\n",
        "    if not isinstance(numbers, list) or numbers is None:\n",
        "        return []\n",
        "\n",
        "    squared_numbers = []\n",
        "    for number in numbers:\n",
        "        if not isinstance(number, (int, float)):\n",
        "            return []  # Return empty list if a non-numeric element is found\n",
        "        squared_numbers.append(number**2)\n",
        "\n",
        "    return squared_numbers\n",
        "\n",
        "\n",
        "# Example Usage:\n",
        "test_lists = [\n",
        "    [1, 2, 3, 4, 5],\n",
        "    [-1, 0, 1],\n",
        "    [],  # Empty list\n",
        "    [1, 2, 'a', 4],  # Contains a non-numeric element\n",
        "    \"not a list\",  # Not a list\n",
        "    None, # None input\n",
        "    [1.5, 2.0, 3.5] # List of floats\n",
        "]\n",
        "\n",
        "for test_list in test_lists:\n",
        "    squared_list_result = square_list(test_list)\n",
        "    print(f\"Original: {test_list}, Squared: {squared_list_result}\")\n",
        "\n",
        "# Output:\n",
        "# Original: [1, 2, 3, 4, 5], Squared: [1, 4, 9, 16, 25]\n",
        "# Original: [-1, 0, 1], Squared: [1, 0, 1]\n",
        "# Original: [], Squared: []\n",
        "# Original: [1, 2, 'a', 4], Squared: []\n",
        "# Original: not a list, Squared: []\n",
        "# Original: None, Squared: []\n",
        "# Original: [1.5, 2.0, 3.5], Squared: [2.25, 4.0, 12.25]"
      ],
      "metadata": {
        "colab": {
          "base_uri": "https://localhost:8080/"
        },
        "id": "G-tI5YV11BBR",
        "outputId": "5788f0d7-08de-408c-9adc-1c7b1a2b38c8"
      },
      "execution_count": null,
      "outputs": [
        {
          "output_type": "stream",
          "name": "stdout",
          "text": [
            "Original: [1, 2, 3, 4, 5], Squared: [1, 4, 9, 16, 25]\n",
            "Original: [-1, 0, 1], Squared: [1, 0, 1]\n",
            "Original: [], Squared: []\n",
            "Original: [1, 2, 'a', 4], Squared: []\n",
            "Original: not a list, Squared: []\n",
            "Original: None, Squared: []\n",
            "Original: [1.5, 2.0, 3.5], Squared: [2.25, 4.0, 12.25]\n"
          ]
        }
      ]
    },
    {
      "cell_type": "markdown",
      "source": [
        "### 4. Write a Python function that checks if a given number is prime or not from 1 to 200."
      ],
      "metadata": {
        "id": "KyMYB79h1ISF"
      }
    },
    {
      "cell_type": "code",
      "source": [
        "def is_prime(number):\n",
        "    \"\"\"\n",
        "    Checks if a given number is prime.\n",
        "\n",
        "    Args:\n",
        "        number: The number to check.\n",
        "\n",
        "    Returns:\n",
        "        True if the number is prime, False otherwise.\n",
        "        Returns None if the input is not a positive integer or is greater than 200.\n",
        "    \"\"\"\n",
        "    if not isinstance(number, int) or number <= 0 or number > 200:\n",
        "        return None  # Handle invalid input\n",
        "\n",
        "    if number <= 1:\n",
        "        return False  # 0 and 1 are not prime\n",
        "    if number <= 3:\n",
        "        return True   # 2 and 3 are prime\n",
        "\n",
        "    if number % 2 == 0 or number % 3 == 0:\n",
        "        return False  # Numbers divisible by 2 or 3 are not prime\n",
        "\n",
        "    # Optimized primality test (checking divisibility only up to the square root)\n",
        "    for i in range(5, int(number**0.5) + 1, 6): # Optimized loop\n",
        "        if number % i == 0 or number % (i + 2) == 0:\n",
        "            return False\n",
        "\n",
        "    return True\n",
        "\n",
        "# Test the function for numbers from 1 to 200\n",
        "for num in range(1, 201):\n",
        "    result = is_prime(num)\n",
        "    if result is not None:\n",
        "        print(f\"{num} is prime: {result}\")\n",
        "    else:\n",
        "        print(f\"{num} is invalid input.\")\n",
        "\n",
        "\n",
        "# Test with invalid inputs\n",
        "test_inputs = [-1, 0, 201, 3.14, \"hello\"]\n",
        "for test_input in test_inputs:\n",
        "    result = is_prime(test_input)\n",
        "    print(f\"Input: {test_input}, Prime check result: {result}\")"
      ],
      "metadata": {
        "colab": {
          "base_uri": "https://localhost:8080/"
        },
        "id": "EIzUXm9w1DYP",
        "outputId": "2348e6d2-b431-4141-da94-cebdf241d4a9"
      },
      "execution_count": null,
      "outputs": [
        {
          "output_type": "stream",
          "name": "stdout",
          "text": [
            "1 is prime: False\n",
            "2 is prime: True\n",
            "3 is prime: True\n",
            "4 is prime: False\n",
            "5 is prime: True\n",
            "6 is prime: False\n",
            "7 is prime: True\n",
            "8 is prime: False\n",
            "9 is prime: False\n",
            "10 is prime: False\n",
            "11 is prime: True\n",
            "12 is prime: False\n",
            "13 is prime: True\n",
            "14 is prime: False\n",
            "15 is prime: False\n",
            "16 is prime: False\n",
            "17 is prime: True\n",
            "18 is prime: False\n",
            "19 is prime: True\n",
            "20 is prime: False\n",
            "21 is prime: False\n",
            "22 is prime: False\n",
            "23 is prime: True\n",
            "24 is prime: False\n",
            "25 is prime: False\n",
            "26 is prime: False\n",
            "27 is prime: False\n",
            "28 is prime: False\n",
            "29 is prime: True\n",
            "30 is prime: False\n",
            "31 is prime: True\n",
            "32 is prime: False\n",
            "33 is prime: False\n",
            "34 is prime: False\n",
            "35 is prime: False\n",
            "36 is prime: False\n",
            "37 is prime: True\n",
            "38 is prime: False\n",
            "39 is prime: False\n",
            "40 is prime: False\n",
            "41 is prime: True\n",
            "42 is prime: False\n",
            "43 is prime: True\n",
            "44 is prime: False\n",
            "45 is prime: False\n",
            "46 is prime: False\n",
            "47 is prime: True\n",
            "48 is prime: False\n",
            "49 is prime: False\n",
            "50 is prime: False\n",
            "51 is prime: False\n",
            "52 is prime: False\n",
            "53 is prime: True\n",
            "54 is prime: False\n",
            "55 is prime: False\n",
            "56 is prime: False\n",
            "57 is prime: False\n",
            "58 is prime: False\n",
            "59 is prime: True\n",
            "60 is prime: False\n",
            "61 is prime: True\n",
            "62 is prime: False\n",
            "63 is prime: False\n",
            "64 is prime: False\n",
            "65 is prime: False\n",
            "66 is prime: False\n",
            "67 is prime: True\n",
            "68 is prime: False\n",
            "69 is prime: False\n",
            "70 is prime: False\n",
            "71 is prime: True\n",
            "72 is prime: False\n",
            "73 is prime: True\n",
            "74 is prime: False\n",
            "75 is prime: False\n",
            "76 is prime: False\n",
            "77 is prime: False\n",
            "78 is prime: False\n",
            "79 is prime: True\n",
            "80 is prime: False\n",
            "81 is prime: False\n",
            "82 is prime: False\n",
            "83 is prime: True\n",
            "84 is prime: False\n",
            "85 is prime: False\n",
            "86 is prime: False\n",
            "87 is prime: False\n",
            "88 is prime: False\n",
            "89 is prime: True\n",
            "90 is prime: False\n",
            "91 is prime: False\n",
            "92 is prime: False\n",
            "93 is prime: False\n",
            "94 is prime: False\n",
            "95 is prime: False\n",
            "96 is prime: False\n",
            "97 is prime: True\n",
            "98 is prime: False\n",
            "99 is prime: False\n",
            "100 is prime: False\n",
            "101 is prime: True\n",
            "102 is prime: False\n",
            "103 is prime: True\n",
            "104 is prime: False\n",
            "105 is prime: False\n",
            "106 is prime: False\n",
            "107 is prime: True\n",
            "108 is prime: False\n",
            "109 is prime: True\n",
            "110 is prime: False\n",
            "111 is prime: False\n",
            "112 is prime: False\n",
            "113 is prime: True\n",
            "114 is prime: False\n",
            "115 is prime: False\n",
            "116 is prime: False\n",
            "117 is prime: False\n",
            "118 is prime: False\n",
            "119 is prime: False\n",
            "120 is prime: False\n",
            "121 is prime: False\n",
            "122 is prime: False\n",
            "123 is prime: False\n",
            "124 is prime: False\n",
            "125 is prime: False\n",
            "126 is prime: False\n",
            "127 is prime: True\n",
            "128 is prime: False\n",
            "129 is prime: False\n",
            "130 is prime: False\n",
            "131 is prime: True\n",
            "132 is prime: False\n",
            "133 is prime: False\n",
            "134 is prime: False\n",
            "135 is prime: False\n",
            "136 is prime: False\n",
            "137 is prime: True\n",
            "138 is prime: False\n",
            "139 is prime: True\n",
            "140 is prime: False\n",
            "141 is prime: False\n",
            "142 is prime: False\n",
            "143 is prime: False\n",
            "144 is prime: False\n",
            "145 is prime: False\n",
            "146 is prime: False\n",
            "147 is prime: False\n",
            "148 is prime: False\n",
            "149 is prime: True\n",
            "150 is prime: False\n",
            "151 is prime: True\n",
            "152 is prime: False\n",
            "153 is prime: False\n",
            "154 is prime: False\n",
            "155 is prime: False\n",
            "156 is prime: False\n",
            "157 is prime: True\n",
            "158 is prime: False\n",
            "159 is prime: False\n",
            "160 is prime: False\n",
            "161 is prime: False\n",
            "162 is prime: False\n",
            "163 is prime: True\n",
            "164 is prime: False\n",
            "165 is prime: False\n",
            "166 is prime: False\n",
            "167 is prime: True\n",
            "168 is prime: False\n",
            "169 is prime: False\n",
            "170 is prime: False\n",
            "171 is prime: False\n",
            "172 is prime: False\n",
            "173 is prime: True\n",
            "174 is prime: False\n",
            "175 is prime: False\n",
            "176 is prime: False\n",
            "177 is prime: False\n",
            "178 is prime: False\n",
            "179 is prime: True\n",
            "180 is prime: False\n",
            "181 is prime: True\n",
            "182 is prime: False\n",
            "183 is prime: False\n",
            "184 is prime: False\n",
            "185 is prime: False\n",
            "186 is prime: False\n",
            "187 is prime: False\n",
            "188 is prime: False\n",
            "189 is prime: False\n",
            "190 is prime: False\n",
            "191 is prime: True\n",
            "192 is prime: False\n",
            "193 is prime: True\n",
            "194 is prime: False\n",
            "195 is prime: False\n",
            "196 is prime: False\n",
            "197 is prime: True\n",
            "198 is prime: False\n",
            "199 is prime: True\n",
            "200 is prime: False\n",
            "Input: -1, Prime check result: None\n",
            "Input: 0, Prime check result: None\n",
            "Input: 201, Prime check result: None\n",
            "Input: 3.14, Prime check result: None\n",
            "Input: hello, Prime check result: None\n"
          ]
        }
      ]
    },
    {
      "cell_type": "markdown",
      "source": [
        "### 5. Create an iterator class in Python that generates the Fibonacci sequence up to a specified number of\n",
        "terms."
      ],
      "metadata": {
        "id": "X7bOsYN11WMR"
      }
    },
    {
      "cell_type": "code",
      "source": [
        "class FibonacciIterator:\n",
        "    \"\"\"\n",
        "    An iterator that generates the Fibonacci sequence up to a specified number of terms.\n",
        "    \"\"\"\n",
        "\n",
        "    def __init__(self, num_terms):\n",
        "        \"\"\"\n",
        "        Initializes the FibonacciIterator.\n",
        "\n",
        "        Args:\n",
        "            num_terms: The number of Fibonacci numbers to generate.\n",
        "        Raises:\n",
        "            ValueError: if num_terms is not a positive integer.\n",
        "        \"\"\"\n",
        "        if not isinstance(num_terms, int) or num_terms <= 0:\n",
        "            raise ValueError(\"num_terms must be a positive integer.\")\n",
        "        self.num_terms = num_terms\n",
        "        self.a = 0\n",
        "        self.b = 1\n",
        "        self.count = 0\n",
        "\n",
        "    def __iter__(self):\n",
        "        \"\"\"Returns the iterator object itself.\"\"\"\n",
        "        return self\n",
        "\n",
        "    def __next__(self):\n",
        "        \"\"\"\n",
        "        Returns the next Fibonacci number in the sequence.\n",
        "\n",
        "        Raises:\n",
        "            StopIteration: If the specified number of terms has been reached.\n",
        "        \"\"\"\n",
        "        if self.count < self.num_terms:\n",
        "            result = self.a\n",
        "            self.a, self.b = self.b, self.a + self.b\n",
        "            self.count += 1\n",
        "            return result\n",
        "        else:\n",
        "            raise StopIteration\n",
        "\n",
        "\n",
        "# Example Usage:\n",
        "try:\n",
        "    fib_iter = FibonacciIterator(10)  # Create an iterator for the first 10 Fibonacci numbers\n",
        "    for num in fib_iter:\n",
        "        print(num, end=\" \")  # Output: 0 1 1 2 3 5 8 13 21 34\n",
        "\n",
        "    print(\"\\n\")\n",
        "\n",
        "    fib_iter_5 = FibonacciIterator(5)\n",
        "    print(list(fib_iter_5)) # Output: [0, 1, 1, 2, 3]\n",
        "\n",
        "    fib_iter_0 = FibonacciIterator(0) # Raises ValueError\n",
        "except ValueError as e:\n",
        "    print(f\"Error: {e}\")\n",
        "\n",
        "try:\n",
        "    fib_iter_negative = FibonacciIterator(-5) # Raises ValueError\n",
        "except ValueError as e:\n",
        "    print(f\"Error: {e}\")\n",
        "\n",
        "try:\n",
        "    fib_iter_not_int = FibonacciIterator(5.5) # Raises ValueError\n",
        "except ValueError as e:\n",
        "    print(f\"Error: {e}\")"
      ],
      "metadata": {
        "colab": {
          "base_uri": "https://localhost:8080/"
        },
        "id": "d75UkGQB1OVk",
        "outputId": "6e90b04a-cfed-4ee6-afc1-c25600b8a037"
      },
      "execution_count": null,
      "outputs": [
        {
          "output_type": "stream",
          "name": "stdout",
          "text": [
            "0 1 1 2 3 5 8 13 21 34 \n",
            "\n",
            "[0, 1, 1, 2, 3]\n",
            "Error: num_terms must be a positive integer.\n",
            "Error: num_terms must be a positive integer.\n",
            "Error: num_terms must be a positive integer.\n"
          ]
        }
      ]
    },
    {
      "cell_type": "markdown",
      "source": [
        "### 6. Write a generator function in Python that yields the powers of 2 up to a given exponent."
      ],
      "metadata": {
        "id": "VsaZiO7y1gUe"
      }
    },
    {
      "cell_type": "code",
      "source": [
        "def powers_of_two(exponent):\n",
        "    \"\"\"\n",
        "    Generates powers of 2 up to a given exponent.\n",
        "\n",
        "    Args:\n",
        "        exponent: The maximum exponent (inclusive).\n",
        "\n",
        "    Yields:\n",
        "        The powers of 2 from 2**0 up to 2**exponent.\n",
        "    Raises:\n",
        "        ValueError: if exponent is negative or not an integer.\n",
        "    \"\"\"\n",
        "    if not isinstance(exponent, int):\n",
        "        raise ValueError(\"Exponent must be an integer.\")\n",
        "    if exponent < 0:\n",
        "        raise ValueError(\"Exponent must be non-negative.\")\n",
        "\n",
        "    for i in range(exponent + 1):  # Iterate from 0 to exponent (inclusive)\n",
        "        yield 2**i\n",
        "\n",
        "# Example Usage:\n",
        "try:\n",
        "    powers = powers_of_two(5) # Generate powers of 2 up to 2**5\n",
        "    for power in powers:\n",
        "        print(power, end=\" \")  # Output: 1 2 4 8 16 32\n",
        "\n",
        "    print(\"\\n\")\n",
        "\n",
        "    powers_list = list(powers_of_two(3))\n",
        "    print(powers_list) # Output: [1, 2, 4, 8]\n",
        "\n",
        "    powers_0 = powers_of_two(0)\n",
        "    print(list(powers_0)) # Output: [1]\n",
        "\n",
        "    powers_negative = powers_of_two(-1) # Raises ValueError\n",
        "except ValueError as e:\n",
        "    print(f\"Error: {e}\")\n",
        "\n",
        "try:\n",
        "    powers_not_int = powers_of_two(5.5) # Raises ValueError\n",
        "except ValueError as e:\n",
        "    print(f\"Error: {e}\")"
      ],
      "metadata": {
        "colab": {
          "base_uri": "https://localhost:8080/"
        },
        "id": "E8y78O661ZzN",
        "outputId": "2c3a36e8-3816-407a-f469-bf9b0ad503fd"
      },
      "execution_count": null,
      "outputs": [
        {
          "output_type": "stream",
          "name": "stdout",
          "text": [
            "1 2 4 8 16 32 \n",
            "\n",
            "[1, 2, 4, 8]\n",
            "[1]\n"
          ]
        }
      ]
    },
    {
      "cell_type": "markdown",
      "source": [
        "### 7. Implement a generator function that reads a file line by line and yields each line as a string."
      ],
      "metadata": {
        "id": "cWSKd2Tg2dOO"
      }
    },
    {
      "cell_type": "code",
      "source": [
        "def file_line_generator(filename):\n",
        "    \"\"\"\n",
        "    Reads a file line by line and yields each line as a string.\n",
        "\n",
        "    Args:\n",
        "        filename: The path to the file.\n",
        "\n",
        "    Yields:\n",
        "        Each line in the file as a string.\n",
        "    Raises:\n",
        "        FileNotFoundError: If the file does not exist.\n",
        "        IOError: If there is an error reading the file.\n",
        "    \"\"\"\n",
        "    try:\n",
        "        with open(filename, 'r') as file:  # Open the file in read mode\n",
        "            for line in file:\n",
        "                yield line.rstrip('\\n')  # Yield the line, removing trailing newline\n",
        "    except FileNotFoundError:\n",
        "        raise FileNotFoundError(f\"File not found: {filename}\")\n",
        "    except IOError as e:\n",
        "        raise IOError(f\"Error reading file: {filename} - {e}\")\n",
        "\n",
        "\n",
        "# Example Usage:\n",
        "\n",
        "# Create a test file\n",
        "test_filename = \"test_file.txt\"\n",
        "with open(test_filename, \"w\") as f:\n",
        "    f.write(\"This is the first line.\\n\")\n",
        "    f.write(\"This is the second line.\\n\")\n",
        "    f.write(\"This is the third line.\\n\")\n",
        "\n",
        "try:\n",
        "    for line in file_line_generator(test_filename):\n",
        "        print(line)\n",
        "except (FileNotFoundError, IOError) as e:\n",
        "    print(f\"An error occurred: {e}\")\n",
        "\n",
        "# Example with non existing file\n",
        "try:\n",
        "    for line in file_line_generator(\"non_existing_file.txt\"):\n",
        "        print(line)\n",
        "except (FileNotFoundError, IOError) as e:\n",
        "    print(f\"An error occurred: {e}\")\n",
        "\n",
        "import os\n",
        "os.remove(test_filename) # Remove dummy file"
      ],
      "metadata": {
        "colab": {
          "base_uri": "https://localhost:8080/"
        },
        "id": "x3fLnHQ41kBv",
        "outputId": "38bbb5db-d21c-4033-b358-f7882c81f846"
      },
      "execution_count": null,
      "outputs": [
        {
          "output_type": "stream",
          "name": "stdout",
          "text": [
            "This is the first line.\n",
            "This is the second line.\n",
            "This is the third line.\n",
            "An error occurred: File not found: non_existing_file.txt\n"
          ]
        }
      ]
    },
    {
      "cell_type": "markdown",
      "source": [
        "### 8. Use a lambda function in Python to sort a list of tuples based on the second element of each tuple"
      ],
      "metadata": {
        "id": "eoiblCrL3M6i"
      }
    },
    {
      "cell_type": "code",
      "source": [
        "def sort_tuples_by_second_element(list_of_tuples):\n",
        "    \"\"\"\n",
        "    Sorts a list of tuples based on the second element of each tuple using a lambda function.\n",
        "\n",
        "    Args:\n",
        "        list_of_tuples: A list of tuples.\n",
        "\n",
        "    Returns:\n",
        "        A new sorted list of tuples. Returns an empty list if input is not a list or if the list is empty.\n",
        "        Returns None if any element of the list is not a tuple.\n",
        "    \"\"\"\n",
        "    if not isinstance(list_of_tuples, list):\n",
        "        return []\n",
        "    if not list_of_tuples: # Check if list is empty\n",
        "      return []\n",
        "\n",
        "    for tup in list_of_tuples:\n",
        "        if not isinstance(tup, tuple):\n",
        "            return None\n",
        "\n",
        "    return sorted(list_of_tuples, key=lambda item: item[1])\n",
        "\n",
        "# Example Usage:\n",
        "test_data = [\n",
        "    [(1, 'b'), (3, 'a'), (2, 'c')],\n",
        "    [(5, 10), (1, 1), (3, 5)],\n",
        "    [],\n",
        "    [(1, 'b'), (3, 'a'), 2], # Contains non tuple element\n",
        "    \"not a list\",\n",
        "    [(1, 'b'), (3, 'a'), (2, 'c'), (1, 'a')] # Contains duplicate second elements\n",
        "]\n",
        "\n",
        "for data in test_data:\n",
        "    sorted_data = sort_tuples_by_second_element(data)\n",
        "    print(f\"Original: {data}, Sorted: {sorted_data}\")\n",
        "\n",
        "# Output:\n",
        "# Original: [(1, 'b'), (3, 'a'), (2, 'c')], Sorted: [(3, 'a'), (1, 'b'), (2, 'c')]\n",
        "# Original: [(5, 10), (1, 1), (3, 5)], Sorted: [(1, 1), (3, 5), (5, 10)]\n",
        "# Original: [], Sorted: []\n",
        "# Original: [(1, 'b'), (3, 'a'), 2], Sorted: None\n",
        "# Original: not a list, Sorted: []\n",
        "# Original: [(1, 'b'), (3, 'a'), (2, 'c'), (1, 'a')], Sorted: [(3, 'a'), (1, 'a'), (1, 'b'), (2, 'c')]"
      ],
      "metadata": {
        "colab": {
          "base_uri": "https://localhost:8080/"
        },
        "id": "f8ce7f0W2gam",
        "outputId": "a377b9cc-83e0-4afb-fc54-ae81022731e6"
      },
      "execution_count": null,
      "outputs": [
        {
          "output_type": "stream",
          "name": "stdout",
          "text": [
            "Original: [(1, 'b'), (3, 'a'), (2, 'c')], Sorted: [(3, 'a'), (1, 'b'), (2, 'c')]\n",
            "Original: [(5, 10), (1, 1), (3, 5)], Sorted: [(1, 1), (3, 5), (5, 10)]\n",
            "Original: [], Sorted: []\n",
            "Original: [(1, 'b'), (3, 'a'), 2], Sorted: None\n",
            "Original: not a list, Sorted: []\n",
            "Original: [(1, 'b'), (3, 'a'), (2, 'c'), (1, 'a')], Sorted: [(3, 'a'), (1, 'a'), (1, 'b'), (2, 'c')]\n"
          ]
        }
      ]
    },
    {
      "cell_type": "markdown",
      "source": [
        "### 9. Write a Python program that uses `map()` to convert a list of temperatures from Celsius to Fahrenheit."
      ],
      "metadata": {
        "id": "S2J0XNPB3XQG"
      }
    },
    {
      "cell_type": "code",
      "source": [
        "def celsius_to_fahrenheit(celsius):\n",
        "    \"\"\"Converts Celsius to Fahrenheit.\"\"\"\n",
        "    return (celsius * 9/5) + 32\n",
        "\n",
        "def convert_temperatures(celsius_temperatures):\n",
        "    \"\"\"\n",
        "    Converts a list of Celsius temperatures to Fahrenheit using map().\n",
        "\n",
        "    Args:\n",
        "        celsius_temperatures: A list of Celsius temperatures (numbers).\n",
        "\n",
        "    Returns:\n",
        "        A list of Fahrenheit temperatures.\n",
        "        Returns an empty list if input is not a list or if the list contains non-numeric elements.\n",
        "    \"\"\"\n",
        "\n",
        "    if not isinstance(celsius_temperatures, list):\n",
        "        return []\n",
        "\n",
        "    fahrenheit_temperatures = []\n",
        "    for temp in celsius_temperatures:\n",
        "      if not isinstance(temp, (int, float)):\n",
        "        return []\n",
        "\n",
        "    fahrenheit_temperatures = list(map(celsius_to_fahrenheit, celsius_temperatures))\n",
        "    return fahrenheit_temperatures\n",
        "\n",
        "\n",
        "# Example Usage:\n",
        "test_temperatures = [\n",
        "    [0, 10, 20, 30, 100],\n",
        "    [-10, 0, 25.5, 37],\n",
        "    [], # Empty list\n",
        "    [0, 10, 'a', 30], # List with non numeric element\n",
        "    \"not a list\"\n",
        "]\n",
        "\n",
        "for temps in test_temperatures:\n",
        "    fahrenheit_temps = convert_temperatures(temps)\n",
        "    print(f\"Celsius: {temps}, Fahrenheit: {fahrenheit_temps}\")\n",
        "\n",
        "# Output:\n",
        "# Celsius: [0, 10, 20, 30, 100], Fahrenheit: [32.0, 50.0, 68.0, 86.0, 212.0]\n",
        "# Celsius: [-10, 0, 25.5, 37], Fahrenheit: [14.0, 32.0, 77.9, 98.6]\n",
        "# Celsius: [], Fahrenheit: []\n",
        "# Celsius: [0, 10, 'a', 30], Fahrenheit: []\n",
        "# Celsius: not a list, Fahrenheit: []"
      ],
      "metadata": {
        "colab": {
          "base_uri": "https://localhost:8080/"
        },
        "id": "GAx6ByYn3Rjw",
        "outputId": "3822ae99-830b-4b43-d88d-31e3df76df19"
      },
      "execution_count": null,
      "outputs": [
        {
          "output_type": "stream",
          "name": "stdout",
          "text": [
            "Celsius: [0, 10, 20, 30, 100], Fahrenheit: [32.0, 50.0, 68.0, 86.0, 212.0]\n",
            "Celsius: [-10, 0, 25.5, 37], Fahrenheit: [14.0, 32.0, 77.9, 98.6]\n",
            "Celsius: [], Fahrenheit: []\n",
            "Celsius: [0, 10, 'a', 30], Fahrenheit: []\n",
            "Celsius: not a list, Fahrenheit: []\n"
          ]
        }
      ]
    },
    {
      "cell_type": "markdown",
      "source": [
        "### 10. Create a Python program that uses `filter()` to remove all the vowels from a given string."
      ],
      "metadata": {
        "id": "q5sf8IxJ7SeI"
      }
    },
    {
      "cell_type": "code",
      "source": [
        "def remove_vowels(input_string):\n",
        "    \"\"\"\n",
        "    Removes all vowels (case-insensitive) from a given string using filter().\n",
        "\n",
        "    Args:\n",
        "        input_string: The string to remove vowels from.\n",
        "\n",
        "    Returns:\n",
        "        A new string with vowels removed. Returns an empty string if the input is not a string or is None.\n",
        "    \"\"\"\n",
        "\n",
        "    if not isinstance(input_string, str) or input_string is None:\n",
        "        return \"\"\n",
        "\n",
        "    vowels = \"aeiouAEIOU\"\n",
        "    filtered_string = \"\".join(filter(lambda char: char not in vowels, input_string))\n",
        "    return filtered_string\n",
        "\n",
        "\n",
        "# Example Usage:\n",
        "test_strings = [\n",
        "    \"Hello, World!\",\n",
        "    \"Python is awesome\",\n",
        "    \"AEIOUaeiou\",  # All vowels\n",
        "    \"\",           # Empty string\n",
        "    123,         # Not a string\n",
        "    None\n",
        "]\n",
        "\n",
        "for test_str in test_strings:\n",
        "    result = remove_vowels(test_str)\n",
        "    print(f\"Original: '{test_str}', Without vowels: '{result}'\")\n",
        "\n",
        "# Output:\n",
        "# Original: 'Hello, World!', Without vowels: 'Hll, Wrld!'\n",
        "# Original: 'Python is awesome', Without vowels: 'Pythn s wsm'\n",
        "# Original: 'AEIOUaeiou', Without vowels: ''\n",
        "# Original: '', Without vowels: ''\n",
        "# Original: '123', Without vowels: ''\n",
        "# Original: 'None', Without vowels: ''"
      ],
      "metadata": {
        "colab": {
          "base_uri": "https://localhost:8080/"
        },
        "id": "0RwztkA04kal",
        "outputId": "d6071e31-9dcf-4b1e-df00-753ab9f45d11"
      },
      "execution_count": null,
      "outputs": [
        {
          "output_type": "stream",
          "name": "stdout",
          "text": [
            "Original: 'Hello, World!', Without vowels: 'Hll, Wrld!'\n",
            "Original: 'Python is awesome', Without vowels: 'Pythn s wsm'\n",
            "Original: 'AEIOUaeiou', Without vowels: ''\n",
            "Original: '', Without vowels: ''\n",
            "Original: '123', Without vowels: ''\n",
            "Original: 'None', Without vowels: ''\n"
          ]
        }
      ]
    },
    {
      "cell_type": "markdown",
      "source": [
        "### 11.  Imagine an accounting routine used in a book shop. It works on a list with sublists, which look like this:(Couldnt attach screen shot of question as my collab is getting unresponsive)\n",
        "Write a Python program, which returns a list with 2-tuples. Each tuple consists of the order number and the\n",
        "product of the price per item and the quantity. The product should be increased by 10,- € if the value of the\n",
        "order is smaller than 100,00 €.\n",
        "\n",
        "Write a Python program using lambda and map"
      ],
      "metadata": {
        "id": "EYq1yDO08Ls4"
      }
    },
    {
      "cell_type": "code",
      "source": [
        "orders = [\n",
        "    [34587, \"Learning Python, Mark Lutz\", 4, 40.95],\n",
        "    [98762, \"Programming Python, Mark Lutz\", 5, 56.80],\n",
        "    [77226, \"Head First Python, Paul Barry\", 3, 32.95],\n",
        "    [88112, \"Einführung in Python3, Bernd Klein\", 3, 24.99],\n",
        "]\n",
        "\n",
        "result = list(map(lambda order: (order[0], (order[2] * order[3]) + 10 if (order[2] * order[3]) < 100 else (order[2] * order[3])), orders))\n",
        "\n",
        "print(result)"
      ],
      "metadata": {
        "id": "aZwN7FFr7Z-n",
        "colab": {
          "base_uri": "https://localhost:8080/"
        },
        "outputId": "89ee900e-9df2-4d6c-8ca6-b419420b5ca6"
      },
      "execution_count": 36,
      "outputs": [
        {
          "output_type": "stream",
          "name": "stdout",
          "text": [
            "[(34587, 163.8), (98762, 284.0), (77226, 108.85000000000001), (88112, 84.97)]\n"
          ]
        }
      ]
    },
    {
      "cell_type": "code",
      "source": [],
      "metadata": {
        "id": "jcgND-6U9xQl"
      },
      "execution_count": null,
      "outputs": []
    }
  ]
}